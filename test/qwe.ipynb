{
 "cells": [
  {
   "cell_type": "code",
   "execution_count": null,
   "metadata": {
    "collapsed": true,
    "pycharm": {
     "name": "#%%\n"
    }
   },
   "outputs": [],
   "source": [
    "import pandas as pd\n",
    "import numpy as np\n",
    "from pprint import pprint\n",
    "import os\n",
    "import json"
   ]
  },
  {
   "cell_type": "code",
   "execution_count": null,
   "outputs": [],
   "source": [
    "folders = os.listdir('..\\\\data\\\\')\n",
    "path = '..\\\\data\\\\'\n",
    "method_type = []\n",
    "method = []\n",
    "prompts = []\n",
    "instruction = []\n",
    "folders.remove('json_for_vlm_our')\n",
    "for folder in folders:\n",
    "    file_names = os.listdir(path + folder)\n",
    "    for file_name in file_names:\n",
    "        f = open(path + folder + '\\\\' + file_name)\n",
    "        data = json.load(f)\n",
    "        for row in data['harmful_behaviors']:\n",
    "            instruction.append(row['jailbreak_instruction'])\n",
    "            method_type.append(data['method_type'])\n",
    "            method.append(data['method'])\n",
    "            prompts.append(row['instruction_with_behavior'])\n",
    "to_save = pd.DataFrame({\n",
    "    'method_type': method_type,\n",
    "    'method': method,\n",
    "    'prompts' : prompts\n",
    "})"
   ],
   "metadata": {
    "collapsed": false,
    "pycharm": {
     "name": "#%%\n"
    }
   }
  },
  {
   "cell_type": "code",
   "execution_count": null,
   "outputs": [],
   "source": [
    "to_save.to_csv('collected.csv')"
   ],
   "metadata": {
    "collapsed": false,
    "pycharm": {
     "name": "#%%\n"
    }
   }
  },
  {
   "cell_type": "code",
   "execution_count": null,
   "outputs": [],
   "source": [],
   "metadata": {
    "collapsed": false,
    "pycharm": {
     "name": "#%%\n"
    }
   }
  }
 ],
 "metadata": {
  "kernelspec": {
   "display_name": "Python 3",
   "language": "python",
   "name": "python3"
  },
  "language_info": {
   "codemirror_mode": {
    "name": "ipython",
    "version": 2
   },
   "file_extension": ".py",
   "mimetype": "text/x-python",
   "name": "python",
   "nbconvert_exporter": "python",
   "pygments_lexer": "ipython2",
   "version": "2.7.6"
  }
 },
 "nbformat": 4,
 "nbformat_minor": 0
}