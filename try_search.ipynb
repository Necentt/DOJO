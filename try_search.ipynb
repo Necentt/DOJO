{
 "cells": [
  {
   "cell_type": "code",
   "execution_count": 18,
   "metadata": {},
   "outputs": [
    {
     "data": {
      "text/plain": [
       "[['girl', 'likes', 'doggy']]"
      ]
     },
     "execution_count": 18,
     "metadata": {},
     "output_type": "execute_result"
    }
   ],
   "source": [
    "from src.corpus_keeper import CorpusReplacer\n",
    "from src.utils import load_model\n",
    "\n",
    "replacer = CorpusReplacer()\n",
    "\n",
    "replacer.transform([[\"girl\", \"likes\", \"dogy\"]])"
   ]
  },
  {
   "cell_type": "code",
   "execution_count": 10,
   "metadata": {},
   "outputs": [
    {
     "name": "stdout",
     "output_type": "stream",
     "text": [
      "The autoreload extension is already loaded. To reload it, use:\n",
      "  %reload_ext autoreload\n"
     ]
    }
   ],
   "source": [
    "%load_ext autoreload\n",
    "%autoreload 2"
   ]
  },
  {
   "cell_type": "code",
   "execution_count": 11,
   "metadata": {},
   "outputs": [],
   "source": [
    "class CorpusReplacer:\n",
    "    def __init__(self):\n",
    "        self.searcher = CorpusSearcher()\n",
    "        self.corpus = set(load_model(\"corpus.pt\"))\n",
    "\n",
    "    def _build_sequence(self, seq=list[str]) -> list[str]:\n",
    "        result = seq.copy()\n",
    "        missing = []\n",
    "        missing_words = []\n",
    "\n",
    "        for i, word in enumerate(seq):\n",
    "            if word not in self.corpus:\n",
    "                missing.append(i)\n",
    "                missing_words.append(word)\n",
    "\n",
    "        if len(missing) == 0:\n",
    "            return result\n",
    "\n",
    "        replacing_words = self.searcher.find(missing_words)\n",
    "\n",
    "        for i, word in enumerate(replacing_words):\n",
    "            result[missing[i]] = word\n",
    "\n",
    "        return result\n",
    "\n",
    "    def transform(self, data: list[list[str]]):\n",
    "        return [self._build_sequence(x) for x in data]"
   ]
  },
  {
   "cell_type": "code",
   "execution_count": 12,
   "metadata": {},
   "outputs": [],
   "source": [
    "replacer = CorpusReplacer()"
   ]
  },
  {
   "cell_type": "code",
   "execution_count": 14,
   "metadata": {},
   "outputs": [
    {
     "data": {
      "text/plain": [
       "['girl', 'likes', 'doggy']"
      ]
     },
     "execution_count": 14,
     "metadata": {},
     "output_type": "execute_result"
    }
   ],
   "source": [
    "replacer._build_sequence([\"girl\", \"likes\", \"dogy\"])"
   ]
  },
  {
   "cell_type": "code",
   "execution_count": null,
   "metadata": {},
   "outputs": [],
   "source": []
  }
 ],
 "metadata": {
  "kernelspec": {
   "display_name": "Python 3",
   "language": "python",
   "name": "python3"
  },
  "language_info": {
   "codemirror_mode": {
    "name": "ipython",
    "version": 3
   },
   "file_extension": ".py",
   "mimetype": "text/x-python",
   "name": "python",
   "nbconvert_exporter": "python",
   "pygments_lexer": "ipython3",
   "version": "3.11.0rc1"
  }
 },
 "nbformat": 4,
 "nbformat_minor": 2
}
