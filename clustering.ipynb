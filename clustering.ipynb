{
 "cells": [
  {
   "cell_type": "code",
   "execution_count": 1,
   "metadata": {},
   "outputs": [
    {
     "name": "stderr",
     "output_type": "stream",
     "text": [
      "/usr/lib/python3/dist-packages/paramiko/transport.py:237: CryptographyDeprecationWarning: Blowfish has been deprecated and will be removed in a future release\n",
      "  \"class\": algorithms.Blowfish,\n",
      "[nltk_data] Downloading package stopwords to\n",
      "[nltk_data]     /home/shaenazar/nltk_data...\n",
      "[nltk_data]   Package stopwords is already up-to-date!\n"
     ]
    }
   ],
   "source": [
    "import gensim\n",
    "import pandas as pd\n",
    "import gensim.downloader\n",
    "import src.utils as utils\n",
    "from nltk.corpus import stopwords\n",
    "import numpy as np\n",
    "\n",
    "stop_words = set(stopwords.words(\"english\"))\n",
    "\n",
    "from pymorphy3 import MorphAnalyzer\n",
    "\n",
    "analyzer = MorphAnalyzer()\n",
    "from sklearn.feature_extraction.text import CountVectorizer\n",
    "from src.transform import Normalizer, LengthScaler, ToArray\n",
    "from sklearn.pipeline import Pipeline\n",
    "\n",
    "import faiss\n",
    "\n",
    "%load_ext autoreload\n",
    "%autoreload 2"
   ]
  },
  {
   "cell_type": "code",
   "execution_count": 3,
   "metadata": {},
   "outputs": [],
   "source": [
    "# pip install faiss-cpu"
   ]
  },
  {
   "cell_type": "code",
   "execution_count": 3,
   "metadata": {},
   "outputs": [],
   "source": [
    "def build_flat(dim, build_data):\n",
    "    index = faiss.IndexIVFFlat(\n",
    "        faiss.IndexFlatL2(dim), dim, 1024, faiss.METRIC_INNER_PRODUCT\n",
    "    )\n",
    "    index.train(build_data)\n",
    "    index.add(build_data)\n",
    "\n",
    "    return index\n",
    "\n",
    "\n",
    "def search_flat(index, query_data, k):\n",
    "    distances, labels = index.search(query_data, k)\n",
    "    return distances, labels"
   ]
  },
  {
   "cell_type": "code",
   "execution_count": 2,
   "metadata": {},
   "outputs": [],
   "source": [
    "data = pd.read_json(\"data/jailbreak.json\")\n",
    "normalizer = Normalizer()\n",
    "data[\"jailbreak\"] = normalizer.transform(data.jailbreak)"
   ]
  },
  {
   "cell_type": "code",
   "execution_count": 56,
   "metadata": {},
   "outputs": [
    {
     "data": {
      "text/plain": [
       "(104, 494)"
      ]
     },
     "execution_count": 56,
     "metadata": {},
     "output_type": "execute_result"
    }
   ],
   "source": [
    "char_vectorizer = CountVectorizer(analyzer=\"char\", ngram_range=(1, 2))\n",
    "\n",
    "char_vectorizer.fit_transform(data.jailbreak).toarray().shape"
   ]
  },
  {
   "cell_type": "code",
   "execution_count": null,
   "metadata": {},
   "outputs": [],
   "source": [
    "w2v_model = gensim.downloader.load('glove-wiki-gigaword-50')\n",
    "utils.save_model_compressed(w2v_model, \"w2v_model\", 9)\n",
    "\n",
    "# w2v_model = utils.load_model(\"w2v_model\")"
   ]
  },
  {
   "cell_type": "code",
   "execution_count": 51,
   "metadata": {},
   "outputs": [],
   "source": [
    "corpus = w2v_model.key_to_index.keys()"
   ]
  },
  {
   "cell_type": "code",
   "execution_count": 52,
   "metadata": {},
   "outputs": [],
   "source": [
    "import string\n",
    "\n",
    "etalon = set(string.ascii_lowercase)\n",
    "metalon = set(\"aeiouy\")\n",
    "\n",
    "def in_english(line):\n",
    "    return np.all(np.vectorize(lambda x: x in etalon)(list(line)))\n",
    "\n",
    "corpus = [x for x in corpus if (in_english(x) and x not in stop_words and len(x) > 2 and len(metalon & set(x)) > 0)]"
   ]
  },
  {
   "cell_type": "code",
   "execution_count": 53,
   "metadata": {},
   "outputs": [
    {
     "data": {
      "text/plain": [
       "311413"
      ]
     },
     "execution_count": 53,
     "metadata": {},
     "output_type": "execute_result"
    }
   ],
   "source": [
    "len(corpus)"
   ]
  },
  {
   "cell_type": "code",
   "execution_count": 54,
   "metadata": {},
   "outputs": [],
   "source": [
    "lscaler = LengthScaler()\n",
    "\n",
    "pipe = Pipeline([(\"vectorizer\", char_vectorizer), (\"lscaler\", lscaler)])\n",
    "\n",
    "X = pipe.transform(corpus)"
   ]
  },
  {
   "cell_type": "code",
   "execution_count": 49,
   "metadata": {},
   "outputs": [
    {
     "data": {
      "text/plain": [
       "array([[0.        , 0.        , 0.        , 0.        , 0.33333333,\n",
       "        0.        , 0.        , 0.33333333, 0.        , 0.        ,\n",
       "        0.        , 0.        , 0.        , 0.        , 0.        ,\n",
       "        0.33333333, 0.        , 0.        , 0.        , 0.        ,\n",
       "        0.        , 0.        , 0.        , 0.        , 0.        ,\n",
       "        0.        , 0.        ],\n",
       "       [0.        , 0.09090909, 0.        , 0.        , 0.        ,\n",
       "        0.09090909, 0.09090909, 0.        , 0.        , 0.        ,\n",
       "        0.        , 0.        , 0.        , 0.09090909, 0.09090909,\n",
       "        0.09090909, 0.        , 0.        , 0.27272727, 0.09090909,\n",
       "        0.09090909, 0.        , 0.        , 0.        , 0.        ,\n",
       "        0.        , 0.        ]])"
      ]
     },
     "execution_count": 49,
     "metadata": {},
     "output_type": "execute_result"
    }
   ],
   "source": [
    "dog = pipe.transform([\"dog\", \"transformer\"])\n",
    "\n",
    "dog"
   ]
  },
  {
   "cell_type": "code",
   "execution_count": 55,
   "metadata": {},
   "outputs": [
    {
     "data": {
      "text/plain": [
       "27"
      ]
     },
     "execution_count": 55,
     "metadata": {},
     "output_type": "execute_result"
    }
   ],
   "source": [
    "len(char_vectorizer.vocabulary_)"
   ]
  },
  {
   "cell_type": "code",
   "execution_count": 12,
   "metadata": {},
   "outputs": [],
   "source": [
    "index = build_flat(494, X)"
   ]
  },
  {
   "cell_type": "code",
   "execution_count": 49,
   "metadata": {},
   "outputs": [],
   "source": [
    "utils.save_model_compressed(index, \"index.pt\", 9)"
   ]
  },
  {
   "cell_type": "code",
   "execution_count": 57,
   "metadata": {},
   "outputs": [],
   "source": [
    "utils.save_model(pipe, \"char_grams.pt\")\n",
    "utils.save_model(corpus, \"w2v_corpus.pt\")"
   ]
  },
  {
   "cell_type": "code",
   "execution_count": 58,
   "metadata": {},
   "outputs": [],
   "source": [
    "corpus = utils.load_model(\"corpus.pt\")"
   ]
  },
  {
   "cell_type": "code",
   "execution_count": 63,
   "metadata": {},
   "outputs": [],
   "source": [
    "X = w2v_model[corpus]"
   ]
  },
  {
   "cell_type": "code",
   "execution_count": 60,
   "metadata": {},
   "outputs": [
    {
     "name": "stderr",
     "output_type": "stream",
     "text": [
      "Intel(R) Extension for Scikit-learn* enabled (https://github.com/intel/scikit-learn-intelex)\n"
     ]
    }
   ],
   "source": [
    "from sklearnex import patch_sklearn\n",
    "\n",
    "from openTSNE import TSNE\n",
    "\n",
    "import numpy as np\n",
    "patch_sklearn()"
   ]
  },
  {
   "cell_type": "code",
   "execution_count": 68,
   "metadata": {},
   "outputs": [
    {
     "name": "stdout",
     "output_type": "stream",
     "text": [
      "--------------------------------------------------------------------------------\n",
      "TSNE(early_exaggeration=12, metric='cosine', n_jobs=8, random_state=42,\n",
      "     verbose=True)\n",
      "--------------------------------------------------------------------------------\n",
      "===> Finding 90 nearest neighbors using Annoy approximate search using cosine distance...\n",
      "   --> Time elapsed: 8.32 seconds\n",
      "===> Calculating affinity matrix...\n",
      "   --> Time elapsed: 0.46 seconds\n",
      "===> Calculating PCA-based initialization...\n",
      "   --> Time elapsed: 0.20 seconds\n",
      "===> Running optimization with exaggeration=12.00, lr=1666.67 for 250 iterations...\n",
      "Iteration   50, KL divergence 3.8552, 50 iterations in 4.2010 sec\n",
      "Iteration  100, KL divergence 3.5135, 50 iterations in 4.9867 sec\n",
      "Iteration  150, KL divergence 3.1363, 50 iterations in 5.1395 sec\n",
      "Iteration  200, KL divergence 2.9060, 50 iterations in 6.2362 sec\n",
      "Iteration  250, KL divergence 2.7439, 50 iterations in 6.2877 sec\n",
      "   --> Time elapsed: 26.85 seconds\n",
      "===> Running optimization with exaggeration=1.00, lr=20000.00 for 500 iterations...\n",
      "Iteration   50, KL divergence 1.3085, 50 iterations in 5.0428 sec\n",
      "Iteration  100, KL divergence 0.9058, 50 iterations in 7.9490 sec\n",
      "Iteration  150, KL divergence 0.7173, 50 iterations in 10.8934 sec\n",
      "Iteration  200, KL divergence 0.6023, 50 iterations in 15.0790 sec\n",
      "Iteration  250, KL divergence 0.5273, 50 iterations in 17.8300 sec\n",
      "Iteration  300, KL divergence 0.4806, 50 iterations in 21.3552 sec\n",
      "Iteration  350, KL divergence 0.4355, 50 iterations in 25.6193 sec\n",
      "Iteration  400, KL divergence 0.4141, 50 iterations in 26.5759 sec\n",
      "Iteration  450, KL divergence 0.3936, 50 iterations in 28.9689 sec\n",
      "Iteration  500, KL divergence 0.3810, 50 iterations in 34.3837 sec\n",
      "   --> Time elapsed: 193.70 seconds\n"
     ]
    }
   ],
   "source": [
    "tsne = TSNE(\n",
    "    perplexity=30,\n",
    "    metric=\"cosine\",\n",
    "    n_jobs=8,\n",
    "    random_state=42,\n",
    "    verbose=True,\n",
    ")\n",
    "\n",
    "X_scaled = tsne.fit(X[np.random.choice(1000, 20000, replace=True)])"
   ]
  },
  {
   "cell_type": "code",
   "execution_count": 69,
   "metadata": {},
   "outputs": [
    {
     "name": "stderr",
     "output_type": "stream",
     "text": [
      "/home/shaenazar/.local/lib/python3.11/site-packages/matplotlib/projections/__init__.py:63: UserWarning: Unable to import Axes3D. This may be due to multiple versions of Matplotlib being installed (e.g. as a system package and as a pip package). As a result, the 3D projection is not available.\n",
      "  warnings.warn(\"Unable to import Axes3D. This may be due to multiple versions of \"\n"
     ]
    }
   ],
   "source": [
    "import matplotlib.pyplot as plt"
   ]
  },
  {
   "cell_type": "code",
   "execution_count": 82,
   "metadata": {},
   "outputs": [],
   "source": [
    "from sklearn.cluster import KMeans\n",
    "\n",
    "kmeans = KMeans(40)"
   ]
  },
  {
   "cell_type": "code",
   "execution_count": 84,
   "metadata": {},
   "outputs": [
    {
     "data": {
      "text/plain": [
       "array([35, 38, 38, ..., 37, 30,  2], dtype=int32)"
      ]
     },
     "execution_count": 84,
     "metadata": {},
     "output_type": "execute_result"
    }
   ],
   "source": [
    "kmeans.predict(X)"
   ]
  },
  {
   "cell_type": "code",
   "execution_count": 71,
   "metadata": {},
   "outputs": [
    {
     "data": {
      "text/plain": [
       "<matplotlib.collections.PathCollection at 0x7b2cd12c01d0>"
      ]
     },
     "execution_count": 71,
     "metadata": {},
     "output_type": "execute_result"
    },
    {
     "data": {
      "image/png": "[encoded data removed]",
      "text/plain": [
       "<Figure size 640x480 with 1 Axes>"
      ]
     },
     "metadata": {},
     "output_type": "display_data"
    }
   ],
   "source": [
    "plt.scatter(*(X_scaled.T), s=0.1)"
   ]
  },
  {
   "cell_type": "code",
   "execution_count": null,
   "metadata": {},
   "outputs": [],
   "source": []
  }
 ],
 "metadata": {
  "kernelspec": {
   "display_name": "Python 3",
   "language": "python",
   "name": "python3"
  },
  "language_info": {
   "codemirror_mode": {
    "name": "ipython",
    "version": 3
   },
   "file_extension": ".py",
   "mimetype": "text/x-python",
   "name": "python",
   "nbconvert_exporter": "python",
   "pygments_lexer": "ipython3",
   "version": "3.11.0rc1"
  }
 },
 "nbformat": 4,
 "nbformat_minor": 2
}
